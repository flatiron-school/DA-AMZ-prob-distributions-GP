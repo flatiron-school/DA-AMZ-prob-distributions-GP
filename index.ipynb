{
 "cells": [
  {
   "cell_type": "markdown",
   "metadata": {},
   "source": [
    "# Probability and Normal Distribution GP"
   ]
  },
  {
   "cell_type": "code",
   "execution_count": null,
   "metadata": {},
   "outputs": [],
   "source": [
    "import pandas as pd\n",
    "import numpy as np\n",
    "from scipy import stats\n",
    "import matplotlib.pyplot as plt\n",
    "%matplotlib inline"
   ]
  },
  {
   "cell_type": "markdown",
   "metadata": {},
   "source": [
    "## Probability\n",
    "\n",
    "Given the following probabilities:\n",
    "\n",
    "$P(A) = 0.7$\n",
    "\n",
    "$P(B) = 0.5$\n",
    "\n",
    "$P(B|A) = 0.4$\n",
    "\n",
    "Calculate the probabilities described in Question 1 and Question 2.\n",
    "\n",
    "**Question 1:** $P(AandB)$"
   ]
  },
  {
   "cell_type": "code",
   "execution_count": null,
   "metadata": {},
   "outputs": [],
   "source": [
    "# Your code here"
   ]
  },
  {
   "cell_type": "markdown",
   "metadata": {},
   "source": [
    "**Question 2:** $P(A|B)$"
   ]
  },
  {
   "cell_type": "code",
   "execution_count": null,
   "metadata": {},
   "outputs": [],
   "source": [
    "# Your code here"
   ]
  },
  {
   "cell_type": "markdown",
   "metadata": {},
   "source": [
    "#### Question 3: Consider the following scenario for the upcoming questions:\n",
    "\n",
    "Let's consider a credit card example. At a supermarket, customers are selected randomly, the store owner recorded whether costumers owned a Visa card (event A) or an Amex credit card (event B). Some customers own both cards. You can assume that:\n",
    "\n",
    "- $P(A) = .5$\n",
    "- $P(B) = .4$\n",
    "- $P(AandB) = .25$\n",
    "\n",
    "Use your knowledge of conditional probability to compute and interpret the following probabilities:\n",
    "\n",
    "- $P(B|A)$\n",
    "- $P(B'|A)$\n",
    "- $P(A|B)$\n",
    "- $P(A'|B)$"
   ]
  },
  {
   "cell_type": "code",
   "execution_count": null,
   "metadata": {},
   "outputs": [],
   "source": [
    "# Your code here"
   ]
  },
  {
   "cell_type": "markdown",
   "metadata": {},
   "source": [
    "#### Question 4\n",
    "\n",
    "Let's consider the example where 2 dice are thrown. Given that **at least one** of the dice has come up on a number higher than 4, what is the probability that the sum is 8?\n",
    "\n",
    "Let $i,j$ be the numbers shown on the dice. The events $A$ and $B$ are described below:\n",
    "\n",
    "- **Event $A$ is when either $i$ or $j$ is 5 or 6** (keep an eye on either - or)\n",
    "- **Event $B$ is when $i + j = 8$**\n",
    "\n",
    "\n",
    "- What is the size of sample space $\\Omega$ ?\n",
    "- What is $P(A \\cap B)$ ?\n",
    "- What is $P(A)$ ?\n",
    "- Use above to calculate $P(B \\mid A)$"
   ]
  },
  {
   "cell_type": "code",
   "execution_count": null,
   "metadata": {},
   "outputs": [],
   "source": [
    "# Your code here"
   ]
  },
  {
   "cell_type": "markdown",
   "metadata": {},
   "source": [
    "## Distributions\n",
    "\n",
    "**Question 1 - Select the matching distribution**\n",
    "\n",
    "Consider the following distributions:\n",
    "\n",
    "![](images/multiple_choice_distributions.png)\n",
    "\n",
    "Please assign the visualization title letter to the prompt that best matches the data:"
   ]
  },
  {
   "cell_type": "markdown",
   "metadata": {},
   "source": [
    "1. Normal, symmetrical, visual evidence of outliers. - LETTER\n",
    "1. Unimodel, skewed to the right, no apparent outliers. - LETTER\n",
    "1. Uniform, asymmetrical, no apparent outliers. - LETTER\n",
    "1. Normal, symmetrical, no apparrent outliers. - LETTER\n",
    "1. Bimodal, symmetrical, no apparent outliers. - LETTER\n",
    "1. Exponential, skewed to the left. - LETTER"
   ]
  },
  {
   "cell_type": "markdown",
   "metadata": {},
   "source": [
    "### Use the following information to answer Question 2:\n",
    "> The typical adult male shoe size follows a normal distribution with a mean of 10.5 and a standard deviation of 1.3"
   ]
  },
  {
   "cell_type": "markdown",
   "metadata": {},
   "source": [
    "**Question 2:**\n",
    "\n",
    "About 68% of adult men typically have a shoe size between a minimum of __ and a maximum of ___?\n",
    "\n",
    "Fill in the code to complete the visualization below.\n"
   ]
  },
  {
   "cell_type": "code",
   "execution_count": null,
   "metadata": {},
   "outputs": [],
   "source": [
    "# Define Distribution\n",
    "shoe_sizes = stats.norm(loc=10.5, scale=1.3)\n",
    "\n",
    "fig, ax = plt.subplots(figsize=(10,6))\n",
    "ax.hist(shoe_sizes.rvs(size=1000, random_state=2022))\n",
    "ax.set_title('Distribution of Male Shoe Size (n=1000)')\n",
    "ax.set_xlabel('Shoe Size')\n",
    "ax.set_ylabel('Frequency')\n",
    "\n",
    "# Complete Code Below\n",
    "# Uncomment and replace None with Minimum shoe size for question 2\n",
    "# ax.axvline(None, color='r')\n",
    "# Uncomment and replace None with Maximum shoe size for question 2\n",
    "# ax.axvline(None, color='r')"
   ]
  },
  {
   "cell_type": "markdown",
   "metadata": {},
   "source": [
    "### Use following dataset on avocado prices to answer Questions :"
   ]
  },
  {
   "cell_type": "code",
   "execution_count": null,
   "metadata": {},
   "outputs": [],
   "source": [
    "# Run this cell without changes\n",
    "avocados = pd.read_csv('data/avocado.csv')['AveragePrice']\n",
    "avocados.describe()"
   ]
  },
  {
   "cell_type": "code",
   "execution_count": null,
   "metadata": {},
   "outputs": [],
   "source": [
    "# Run this cell without changes\n",
    "\n",
    "# Plot a histogram\n",
    "fig, ax = plt.subplots(figsize=(10,6))\n",
    "ax.hist(avocados, bins=20)\n",
    "ax.set_title('Sample of Average Avocado Prices')\n",
    "ax.set_xlabel('Average Price (dollars)')\n",
    "ax.set_ylabel('Frequency');"
   ]
  },
  {
   "cell_type": "markdown",
   "metadata": {},
   "source": [
    "Assume the above distribution is normal enough to answer the following questions.\n",
    "\n",
    "### Question 3\n",
    "\n",
    "What is the z-score for an avocado with a price of .55 cents?\n",
    "\n",
    "Hint: Begin by calculating the mean and standard deviation of avocado prices"
   ]
  },
  {
   "cell_type": "code",
   "execution_count": null,
   "metadata": {},
   "outputs": [],
   "source": [
    "# Your code here"
   ]
  },
  {
   "cell_type": "markdown",
   "metadata": {},
   "source": [
    "### Question 4\n",
    "\n",
    "What percent of avocados have a price less than 2 dollars?"
   ]
  },
  {
   "cell_type": "code",
   "execution_count": null,
   "metadata": {},
   "outputs": [],
   "source": [
    "# Your code here"
   ]
  },
  {
   "cell_type": "markdown",
   "metadata": {},
   "source": [
    "### Question 5\n",
    "\n",
    "What range of prices contain the middle 50% of values, also known as the interquartile range (IQR)?"
   ]
  },
  {
   "cell_type": "code",
   "execution_count": null,
   "metadata": {},
   "outputs": [],
   "source": [
    "# Your code here"
   ]
  },
  {
   "cell_type": "markdown",
   "metadata": {},
   "source": [
    "### Question 6\n",
    "\n",
    "Convert the normal distribution of avocado prices to a standard normal distribution (hint: find the z-score for every price). Plot both the original normal distribution and the standard normal distribution. \n",
    "\n",
    "The following documentation may be helpful for plotting the original distribution ([stats.norm](https://docs.scipy.org/doc/scipy/reference/generated/scipy.stats.norm.html?highlight=norm) - checkout the `rvs` method)"
   ]
  },
  {
   "cell_type": "code",
   "execution_count": null,
   "metadata": {},
   "outputs": [],
   "source": [
    "# Your code here"
   ]
  }
 ],
 "metadata": {
  "kernelspec": {
   "display_name": "Python (learn-env)",
   "language": "python",
   "name": "learn-env"
  },
  "language_info": {
   "codemirror_mode": {
    "name": "ipython",
    "version": 3
   },
   "file_extension": ".py",
   "mimetype": "text/x-python",
   "name": "python",
   "nbconvert_exporter": "python",
   "pygments_lexer": "ipython3",
   "version": "3.8.5"
  }
 },
 "nbformat": 4,
 "nbformat_minor": 4
}
